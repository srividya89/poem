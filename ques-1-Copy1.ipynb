{
 "cells": [
  {
   "cell_type": "code",
   "execution_count": 1,
   "id": "b7732b34",
   "metadata": {},
   "outputs": [
    {
     "name": "stdout",
     "output_type": "stream",
     "text": [
      "Requirement already satisfied: selenium in c:\\users\\srividya\\anaconda3\\lib\\site-packages (3.141.0)\n",
      "Requirement already satisfied: urllib3 in c:\\users\\srividya\\anaconda3\\lib\\site-packages (from selenium) (1.26.4)\n"
     ]
    }
   ],
   "source": [
    "!pip install selenium\n",
    "import time"
   ]
  },
  {
   "cell_type": "code",
   "execution_count": 2,
   "id": "c0fd06a5",
   "metadata": {},
   "outputs": [],
   "source": [
    "import selenium\n",
    "import pandas as pd\n",
    "from selenium import webdriver \n",
    "from selenium.common.exceptions import  StaleElementReferenceException\n",
    "from selenium.common.exceptions import  NoSuchElementException\n",
    "from selenium.webdriver.support.ui import WebDriverWait\n",
    "from selenium.webdriver.support import expected_conditions as EC\n",
    "from selenium.webdriver.common.by import By\n"
   ]
  },
  {
   "cell_type": "code",
   "execution_count": 3,
   "id": "ebe442d0",
   "metadata": {},
   "outputs": [],
   "source": [
    "driver=webdriver.Chrome(r\"C:\\Users\\Srividya\\Downloads\\chromedriver_win32\\chromedriver.exe\")"
   ]
  },
  {
   "cell_type": "code",
   "execution_count": 4,
   "id": "f25218f1",
   "metadata": {},
   "outputs": [],
   "source": [
    "url=\"https://www.naukri.com/\"\n",
    "driver.get(url)"
   ]
  },
  {
   "cell_type": "code",
   "execution_count": 5,
   "id": "988a08cc",
   "metadata": {},
   "outputs": [
    {
     "data": {
      "text/plain": [
       "<selenium.webdriver.remote.webelement.WebElement (session=\"f3b566c8b19336bf9f5f46a9d7a604d2\", element=\"2ac6dd35-ef35-41e2-a3b0-41078a41f6bb\")>"
      ]
     },
     "execution_count": 5,
     "metadata": {},
     "output_type": "execute_result"
    }
   ],
   "source": [
    "search_job=driver.find_element_by_xpath(\"//input[@class='sugInp']\")\n",
    "search_job"
   ]
  },
  {
   "cell_type": "code",
   "execution_count": 6,
   "id": "eefd0241",
   "metadata": {},
   "outputs": [],
   "source": [
    "search_job.send_keys(\"Data Analyst\")"
   ]
  },
  {
   "cell_type": "code",
   "execution_count": 7,
   "id": "a30578f9",
   "metadata": {},
   "outputs": [
    {
     "data": {
      "text/plain": [
       "<selenium.webdriver.remote.webelement.WebElement (session=\"f3b566c8b19336bf9f5f46a9d7a604d2\", element=\"d3a12409-4402-413e-9975-d4ccdea2796c\")>"
      ]
     },
     "execution_count": 7,
     "metadata": {},
     "output_type": "execute_result"
    }
   ],
   "source": [
    "search_loc=driver.find_element_by_xpath(\"//input[@name='location']\")\n",
    "search_loc"
   ]
  },
  {
   "cell_type": "code",
   "execution_count": 8,
   "id": "cf6acc50",
   "metadata": {},
   "outputs": [],
   "source": [
    "search_loc.send_keys(\"Bangalore\")"
   ]
  },
  {
   "cell_type": "code",
   "execution_count": 9,
   "id": "57b0ee9e",
   "metadata": {},
   "outputs": [],
   "source": [
    "time.sleep(2)"
   ]
  },
  {
   "cell_type": "code",
   "execution_count": 10,
   "id": "8e5d8e2d",
   "metadata": {},
   "outputs": [],
   "source": [
    "search_btn=driver.find_element_by_xpath(\"//div[@class='search-btn']\")"
   ]
  },
  {
   "cell_type": "code",
   "execution_count": 11,
   "id": "fb9921d8",
   "metadata": {},
   "outputs": [],
   "source": [
    "search_btn.click()"
   ]
  },
  {
   "cell_type": "code",
   "execution_count": 18,
   "id": "3bb3ad5c",
   "metadata": {},
   "outputs": [
    {
     "data": {
      "text/plain": [
       "['https://www.naukri.com/job-listings-business-data-analyst-trigent-software-private-limited-bangalore-bengaluru-5-to-10-years-080921602383?src=jobsearchDesk&sid=16312258661709476&xp=1&px=1',\n",
       " 'https://www.naukri.com/job-listings-business-data-analyst-trigent-software-private-limited-bangalore-bengaluru-5-to-10-years-080921002381?src=jobsearchDesk&sid=16312258661709476&xp=2&px=1',\n",
       " 'https://www.naukri.com/job-listings-senior-data-analyst-idam-services-glaxosmithkline-pharmaceuticals-limited-bangalore-bengaluru-4-to-8-years-080921501391?src=jobsearchDesk&sid=16312258661709476&xp=3&px=1',\n",
       " 'https://www.naukri.com/job-listings-data-analyst-sr-data-engineer-syren-technologies-private-limited-hyderabad-secunderabad-chennai-bangalore-bengaluru-4-to-9-years-080921005341?src=jobsearchDesk&sid=16312258661709476&xp=4&px=1',\n",
       " 'https://www.naukri.com/job-listings-senior-data-analyst-mcafee-software-india-pvt-ltd-bangalore-bengaluru-6-to-8-years-090921502499?src=jobsearchDesk&sid=16312258661709476&xp=5&px=1',\n",
       " 'https://www.naukri.com/job-listings-business-data-analyst-google-data-studio-sql-ave-promagne-bangalore-bengaluru-3-to-8-years-070921902812?src=jobsearchDesk&sid=16312258661709476&xp=6&px=1',\n",
       " 'https://www.naukri.com/job-listings-senior-data-analyst-in4-walmart-labs-bangalore-bengaluru-8-to-10-years-090921500551?src=jobsearchDesk&sid=16312258661709476&xp=7&px=1',\n",
       " 'https://www.naukri.com/job-listings-tcs-hiring-for-senior-data-analyst-bfsi-domain-tata-consultancy-services-ltd-chennai-bangalore-bengaluru-6-to-11-years-090921006929?src=jobsearchDesk&sid=16312258661709476&xp=8&px=1',\n",
       " 'https://www.naukri.com/job-listings-data-analyst-python-sql-affine-bangalore-bengaluru-3-to-5-years-080921903676?src=jobsearchDesk&sid=16312258661709476&xp=9&px=1',\n",
       " 'https://www.naukri.com/job-listings-executive-data-analyst-gokaldas-exports-ltd-bangalore-bengaluru-0-to-3-years-030921004749?src=jobsearchDesk&sid=16312258661709476&xp=10&px=1',\n",
       " 'https://www.naukri.com/job-listings-tcs-hiring-for-mdm-master-data-management-data-analyst-bfsi-domain-tata-consultancy-services-ltd-chennai-bangalore-bengaluru-6-to-11-years-090921006980?src=jobsearchDesk&sid=16312258661709476&xp=11&px=1',\n",
       " 'https://www.naukri.com/job-listings-senior-data-analyst-virtusa-consulting-services-pvt-ltd-hyderabad-secunderabad-pune-gurgaon-gurugram-chennai-bangalore-bengaluru-mumbai-all-areas-8-to-12-years-300821008987?src=jobsearchDesk&sid=16312258661709476&xp=12&px=1',\n",
       " 'https://www.naukri.com/job-listings-systems-and-data-analyst-safety-and-provisioning-aecom-india-private-limited-bangalore-bengaluru-2-to-7-years-090921900357?src=jobsearchDesk&sid=16312258661709476&xp=13&px=1',\n",
       " 'https://www.naukri.com/job-listings-data-analyst-with-sql-wipro-limited-noida-gurgaon-gurugram-bangalore-bengaluru-3-to-5-years-080921007575?src=jobsearchDesk&sid=16312258661709476&xp=14&px=1',\n",
       " 'https://www.naukri.com/job-listings-data-analyst-ibm-india-pvt-limited-bengaluru-bangalore-1-to-4-years-070921901682?src=jobsearchDesk&sid=16312258661709476&xp=15&px=1',\n",
       " 'https://www.naukri.com/job-listings-sr-data-analyst-empower-retirement-bangalore-bengaluru-5-to-8-years-090921502717?src=jobsearchDesk&sid=16312258661709476&xp=16&px=1',\n",
       " 'https://www.naukri.com/job-listings-sr-analyst-data-analysis-tesco-bengaluru-bangalore-bengaluru-2-to-4-years-090921502415?src=jobsearchDesk&sid=16312258661709476&xp=17&px=1',\n",
       " 'https://www.naukri.com/job-listings-business-data-analyst-mis-reporting-intertrust-group-mumbai-bangalore-bengaluru-3-to-8-years-270121001879?src=jobsearchDesk&sid=16312258661709476&xp=18&px=1',\n",
       " 'https://www.naukri.com/job-listings-data-analyst-edge-executive-search-pvt-ltd-pune-bangalore-bengaluru-mumbai-all-areas-0-to-2-years-090921003102?src=jobsearchDesk&sid=16312258661709476&xp=19&px=1',\n",
       " 'https://www.naukri.com/job-listings-data-analyst-morgan-stanley-advantage-services-pvt-ltd-bangalore-bengaluru-5-to-10-years-090921501664?src=jobsearchDesk&sid=16312258661709476&xp=20&px=1']"
      ]
     },
     "execution_count": 18,
     "metadata": {},
     "output_type": "execute_result"
    }
   ],
   "source": [
    "urls=[]\n",
    "titles=driver.find_elements_by_xpath(\"//a[@class='title fw500 ellipsis']\")\n",
    "for i in titles:\n",
    "    urls.append(i.get_attribute(\"href\"))\n",
    "urls   \n"
   ]
  },
  {
   "cell_type": "code",
   "execution_count": null,
   "id": "9f01a130",
   "metadata": {},
   "outputs": [],
   "source": [
    "job_titles=[]\n",
    "job_description=[]\n",
    "for j in urls:\n",
    "    driver.get(j)\n",
    "    time.sleep(3)\n",
    "    #fetch job title\n",
    "    try:\n",
    "        job=driver.find_elements_by_xpath(\"//h1[@title='Business Data Analyst']\")\n",
    "        for h in job:\n",
    "            job_titles.append(h.text,replace(\"\\n\"))\n",
    "        job_titles      \n",
    "    except:\n",
    "            job_titles.append('_')\n",
    "  "
   ]
  },
  {
   "cell_type": "code",
   "execution_count": null,
   "id": "6ac216c4",
   "metadata": {},
   "outputs": [],
   "source": [
    "job_titles"
   ]
  },
  {
   "cell_type": "code",
   "execution_count": null,
   "id": "36aaee1f",
   "metadata": {},
   "outputs": [],
   "source": []
  },
  {
   "cell_type": "code",
   "execution_count": null,
   "id": "a9d86e15",
   "metadata": {},
   "outputs": [],
   "source": []
  }
 ],
 "metadata": {
  "kernelspec": {
   "display_name": "Python 3",
   "language": "python",
   "name": "python3"
  },
  "language_info": {
   "codemirror_mode": {
    "name": "ipython",
    "version": 3
   },
   "file_extension": ".py",
   "mimetype": "text/x-python",
   "name": "python",
   "nbconvert_exporter": "python",
   "pygments_lexer": "ipython3",
   "version": "3.8.8"
  }
 },
 "nbformat": 4,
 "nbformat_minor": 5
}
